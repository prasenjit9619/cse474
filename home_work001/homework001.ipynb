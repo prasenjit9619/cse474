{
 "cells": [
  {
   "cell_type": "code",
   "execution_count": 5,
   "metadata": {},
   "outputs": [
    {
     "name": "stdout",
     "output_type": "stream",
     "text": [
      "6\n",
      "48\n"
     ]
    }
   ],
   "source": [
    "#P2.4.6\n",
    "def fnc(n):\n",
    "    if(n == 1 or n == 2):\n",
    "        return n\n",
    "    else:\n",
    "        return n * fnc(n - 2)\n",
    "n = int(input())\n",
    "print(fnc(n))\n",
    "# both work for even and odd"
   ]
  },
  {
   "cell_type": "code",
   "execution_count": 2,
   "metadata": {},
   "outputs": [
    {
     "name": "stdout",
     "output_type": "stream",
     "text": [
      "[0.0, 0.25, 1.0, 0.5, 0.75, 0.25]\n"
     ]
    }
   ],
   "source": [
    "#Q2.5.1\n",
    "a = [2,4,10,6,8,4]\n",
    "mx = max(a)\n",
    "mn = min(a);\n",
    "for i, val in enumerate(a):\n",
    "    x = val - mn\n",
    "    y = mx - mn\n",
    "    a[i] = x / y\n",
    "print(a)\n"
   ]
  },
  {
   "cell_type": "code",
   "execution_count": 1,
   "metadata": {},
   "outputs": [
    {
     "name": "stdout",
     "output_type": "stream",
     "text": [
      "0.7853981633974505\n"
     ]
    }
   ],
   "source": [
    "#Q2.5.2\n",
    "import math as m\n",
    "sum = 1.e-14\n",
    "a = 1.0\n",
    "b = m.sqrt(2)\n",
    "while abs(a - b) > sum:\n",
    "    a = (a + b) / 2\n",
    "    b = m.sqrt(a * b)\n",
    "print(1 / a)"
   ]
  },
  {
   "cell_type": "code",
   "execution_count": 23,
   "metadata": {},
   "outputs": [
    {
     "name": "stdout",
     "output_type": "stream",
     "text": [
      "Valid\n"
     ]
    }
   ],
   "source": [
    "#P2.5.3\n",
    "n = [4, 7, 9, 9, 2, 7, 3, 9, 8, 7, 4, 3, 6, 2, 7, 2]\n",
    "#n[::-1]\n",
    "n.reverse()\n",
    "sum = 0\n",
    "for i in range(16):\n",
    "    if(i % 2 != 0):\n",
    "        ve = int(n[i]) * 2\n",
    "        if(ve > 9):\n",
    "            x = ve % 10\n",
    "            ve = ve // 10\n",
    "            y = ve % 10\n",
    "            ve = x + y\n",
    "        sum += ve\n",
    "if(sum % 10 == 0):\n",
    "    print(\"Valid\")\n",
    "else:\n",
    "    print(\"Invalid\")"
   ]
  },
  {
   "cell_type": "code",
   "execution_count": 26,
   "metadata": {},
   "outputs": [
    {
     "name": "stdout",
     "output_type": "stream",
     "text": [
      "27\n",
      "  14\n",
      "  7\n",
      "  4\n",
      "  2\n",
      "  1\n",
      "None\n"
     ]
    }
   ],
   "source": [
    "#P2.5.7\n",
    "def fnc(n):\n",
    "    if(n == 1):\n",
    "        return\n",
    "    elif(n % 2 == 0):\n",
    "        print(\" \", n // 2)\n",
    "        fnc( n // 2)\n",
    "    else:\n",
    "        print(\" \", (n // 2) + 1)\n",
    "        fnc((n // 2) + 1)\n",
    "print(fnc(int(input())))"
   ]
  },
  {
   "cell_type": "code",
   "execution_count": 38,
   "metadata": {},
   "outputs": [
    {
     "name": "stdout",
     "output_type": "stream",
     "text": [
      "2\n",
      "3\n",
      "5\n",
      "7\n",
      "11\n",
      "13\n",
      "17\n",
      "19\n",
      "23\n",
      "29\n",
      "31\n",
      "37\n",
      "41\n",
      "43\n",
      "47\n",
      "53\n",
      "59\n",
      "61\n",
      "67\n",
      "71\n",
      "73\n",
      "79\n",
      "83\n",
      "89\n",
      "97\n",
      "....\n",
      "....\n",
      "....\n",
      "9511\n",
      "9521\n",
      "9533\n",
      "9539\n",
      "9547\n",
      "9551\n",
      "9587\n",
      "9601\n",
      "9613\n",
      "9619\n",
      "9623\n",
      "9629\n",
      "9631\n",
      "9643\n",
      "9649\n",
      "9661\n",
      "9677\n",
      "9679\n",
      "9689\n",
      "9697\n",
      "9719\n",
      "9721\n",
      "9733\n",
      "9739\n",
      "9743\n",
      "9749\n",
      "9767\n",
      "9769\n",
      "9781\n",
      "9787\n",
      "9791\n",
      "9803\n",
      "9811\n",
      "9817\n",
      "9829\n",
      "9833\n",
      "9839\n",
      "9851\n",
      "9857\n",
      "9859\n",
      "9871\n",
      "9883\n",
      "9887\n",
      "9901\n",
      "9907\n",
      "9923\n",
      "9929\n",
      "9931\n",
      "9941\n",
      "9949\n",
      "9967\n",
      "9973\n"
     ]
    }
   ],
   "source": [
    "#P2.5.8\n",
    "import math\n",
    "n = [True for i in range(10004)]\n",
    "for i in range(4, 10004, 2):\n",
    "    n[i] = False\n",
    "n[1] = False\n",
    "for i in range(3, int(math.sqrt(10004) + 1), 2):\n",
    "    if(n[i] == True):\n",
    "        for j in range(i * i, 10004, i):\n",
    "            n[j] = False\n",
    "for i in range(2, 100):\n",
    "    if(n[i] == True):\n",
    "        print(i)\n",
    "print(\"....\\n....\\n....\")\n",
    "for i in range(9500, 10004):\n",
    "    if(n[i] == True):\n",
    "        print(i)"
   ]
  },
  {
   "cell_type": "code",
   "execution_count": 3,
   "metadata": {},
   "outputs": [
    {
     "data": {
      "image/png": "[encoded data removed]",
      "text/plain": [
       "<Figure size 432x288 with 1 Axes>"
      ]
     },
     "metadata": {
      "needs_background": "light"
     },
     "output_type": "display_data"
    }
   ],
   "source": [
    "#Class task\n",
    "import pylab\n",
    "f = open(\"input.txt\", \"r\")\n",
    "x, y = [], []\n",
    "for i in f.readlines():\n",
    "    ve = i.split(\",\")\n",
    "    x.append(int(ve[0]))\n",
    "    y.append(int(ve[1]))\n",
    "pylab.plot(x, y)\n",
    "pylab.show()"
   ]
  },
  {
   "cell_type": "code",
   "execution_count": 7,
   "metadata": {},
   "outputs": [
    {
     "name": "stdout",
     "output_type": "stream",
     "text": [
      "5.18   115.61\n"
     ]
    }
   ],
   "source": [
    "#P2.6.1\n",
    "import math as m\n",
    "f = open(\"Gymnosperm_database.txt\", \"r\")\n",
    "name, location, d, h = [], [], [], []\n",
    "mxd = -1.0\n",
    "mxh = -1.0\n",
    "for i in f.readlines():\n",
    "    ve = i.split(\"\\t\")\n",
    "    name.append(str(ve[0]))\n",
    "    location.append(str(ve[1]))\n",
    "    d.append(float(ve[2]))\n",
    "    h.append(float(ve[3]))\n",
    "for i in range(len(h)):\n",
    "    mxd = max(mxd, d[i])\n",
    "    mxh = max(mxh, h[i])\n",
    "print(mxd, \" \", mxh)"
   ]
  }
 ],
 "metadata": {
  "kernelspec": {
   "display_name": "Python 3",
   "language": "python",
   "name": "python3"
  },
  "language_info": {
   "codemirror_mode": {
    "name": "ipython",
    "version": 3
   },
   "file_extension": ".py",
   "mimetype": "text/x-python",
   "name": "python",
   "nbconvert_exporter": "python",
   "pygments_lexer": "ipython3",
   "version": "3.7.3"
  }
 },
 "nbformat": 4,
 "nbformat_minor": 4
}
